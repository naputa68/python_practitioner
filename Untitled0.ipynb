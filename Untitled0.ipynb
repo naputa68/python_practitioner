{
  "nbformat": 4,
  "nbformat_minor": 0,
  "metadata": {
    "colab": {
      "name": "Untitled0.ipynb",
      "provenance": [],
      "authorship_tag": "ABX9TyPhogC+KYf8SNnImXL7WncO",
      "include_colab_link": true
    },
    "kernelspec": {
      "name": "python3",
      "display_name": "Python 3"
    }
  },
  "cells": [
    {
      "cell_type": "markdown",
      "metadata": {
        "id": "view-in-github",
        "colab_type": "text"
      },
      "source": [
        "<a href=\"https://colab.research.google.com/github/naputa68/python_practitioner/blob/master/Untitled0.ipynb\" target=\"_parent\"><img src=\"https://colab.research.google.com/assets/colab-badge.svg\" alt=\"Open In Colab\"/></a>"
      ]
    },
    {
      "cell_type": "code",
      "metadata": {
        "id": "VYwdt3Qse63c",
        "colab_type": "code",
        "colab": {
          "base_uri": "https://localhost:8080/",
          "height": 1000
        },
        "outputId": "4c895a56-b5e9-4b4b-9213-af34803891bb"
      },
      "source": [
        "#1.Everyday this programe will get HSI futures opening price from web\n",
        "#2. The data will be saved in HDD\n",
        "#3. The data will be sent an email to steve.mc.wong@gmail.com  \n",
        "\n",
        "\n",
        "# Code to run from colab\n",
        "!pip install selenium\n",
        "!apt-get update # to update ubuntu to correctly run apt install\n",
        "!apt install chromium-chromedriver\n",
        "!cp /usr/lib/chromium-browser/chromedriver /usr/bin\n",
        "\n",
        "import sys\n",
        "sys.path.insert(0,'/usr/lib/chromium-browser/chromedriver')\n",
        "from selenium import webdriver\n",
        "chrome_options = webdriver.ChromeOptions()\n",
        "chrome_options.add_argument('--headless')\n",
        "chrome_options.add_argument('--no-sandbox')\n",
        "chrome_options.add_argument('--disable-dev-shm-usage')\n",
        "driver = webdriver.Chrome('chromedriver',chrome_options=chrome_options)\n",
        "\n",
        "\n",
        "from selenium import webdriver\n",
        "from selenium.webdriver.common.keys import Keys\n",
        "from bs4 import BeautifulSoup as bs\n",
        "import time\n",
        "import pandas as pd\n",
        "import time\n",
        "import datetime\n",
        "import requests\n",
        "from datetime import date\n",
        "import os\n",
        "import numpy as np\n",
        "from pathlib import Path\n",
        "import csv\n",
        "now = datetime.datetime.now()\n",
        "\n",
        "def hsic1_data_backup():  \n",
        "    # open chrome to get HSIc1 data \n",
        "    etnet = 'http://www.etnet.com.hk/www/tc/futures/index.php'\n",
        "\n",
        "          \n",
        "    driver_etnet = webdriver.Chrome('chromedriver',chrome_options=chrome_options)\n",
        "    driver_etnet.get(etnet)\n",
        "    etnet_spot_month_hsi_name  = driver_etnet.find_element_by_css_selector('#DivContentLeft > div.DivFigureBox.shadow > div.FuturesQuoteBox > div.FuturesQuoteLeft > div:nth-child(1) > div:nth-child(1) > div:nth-child(1)').text    \n",
        "    etnet_spot_month_hsi  = driver_etnet.find_element_by_css_selector('#DivContentLeft > div.DivFigureBox.shadow > div.FuturesQuoteBox > div.FuturesQuoteLeft > div:nth-child(1) > div:nth-child(3) > div:nth-child(1)').text\n",
        "    etnet_spot_month_hsi = ''.join(etnet_spot_month_hsi.split())\n",
        "    etnet_spot_month_hsi = etnet_spot_month_hsi.replace(',','')\n",
        "        \n",
        "    etnet_spot_month_hsi_open = int(etnet_spot_month_hsi[9:14])\n",
        "    etnet_spot_month_hsi_previous_close = int(etnet_spot_month_hsi[2:7])\n",
        "    etnet_spot_month_hsi_change  = etnet_spot_month_hsi_open - etnet_spot_month_hsi_previous_close\n",
        "    driver_etnet.close()\n",
        "\n",
        "    # create a dataframe to store HSIc1 Data  \n",
        "    etnet_df = pd.DataFrame({'Date':[date.today()],'Contract':[etnet_spot_month_hsi_name],'Open':[etnet_spot_month_hsi_open],'Pre_Close':[etnet_spot_month_hsi_previous_close],'Change':[etnet_spot_month_hsi_change]})       \n",
        "                \n",
        "    os.getcwd()\n",
        "\n",
        "    # check if 'hsic1.csv' or not\n",
        "    if Path('hsic1.csv').is_file():\n",
        "        print (\"File exist\")\n",
        "        \n",
        "        newdata = etnet_df\n",
        "        #Add new data in the last row of 'hsic1.csv'\n",
        "        with open('hsic1.csv', newline='') as csvfile:\n",
        "          df = pd.read_csv(csvfile)\n",
        "          frames = [df, etnet_df]\n",
        "          res1 = pd.concat(frames)\n",
        "          res1.to_csv('hsic1.csv')\n",
        "          print (\"File updated\")\n",
        "    else:\n",
        "        # create a new csv file to store data\n",
        "        print (\"File not exist\")\n",
        "        etnet_df.to_csv('hsic1.csv')\n",
        "        print (\"New file saved\")\n",
        "\n",
        "\n",
        "\n",
        "# It will get the HSI futures opening price form stock360.hkej.com\n",
        "# Then it will send a email from 'steve.mc.wong1@gmail.com'\n",
        "# The email will automatically send at 09:15 Daily\n",
        "\n",
        "\n",
        "\n",
        "    # get HSI_change is '上升' or '下跌'\n",
        "\n",
        "    if etnet_spot_month_hsi_change  >= 0:\n",
        "        change = '上升'      \n",
        "    else :\n",
        "        change = '下跌'\n",
        "\n",
        "\n",
        "    Hsi_daily_report = str(etnet_spot_month_hsi_name) +' 開盤報 '+str(etnet_spot_month_hsi_open) +'點 ' + change + str(etnet_spot_month_hsi_change) +' 點'\n",
        "    print(Hsi_daily_report)\n",
        "\n",
        "    import smtplib\n",
        "    from email.mime.text import MIMEText\n",
        "\n",
        "    # define content\n",
        "    recipients = ['steve.mc.wong1@gmail.com']\n",
        "    sender = 'steve.mc.wong1@gmail.com'\n",
        "    gmail_passwd =  'p@$$word2020!!'\n",
        "    subject = str(etnet_spot_month_hsi_name) + ' 開盤報 '\n",
        "    body = Hsi_daily_report\n",
        "\n",
        "\n",
        "    # make up message\n",
        "    msg = MIMEText(body)\n",
        "    msg['Subject'] = subject\n",
        "    msg['From'] = sender\n",
        "    msg['To'] = \", \".join(recipients)\n",
        "\n",
        "    # sending the report in specific time\n",
        "    try:\n",
        "        session = smtplib.SMTP('smtp.gmail.com', 587)\n",
        "        session.starttls()\n",
        "        session.login(sender, gmail_passwd)\n",
        "        send_it = session.sendmail(sender, recipients, msg.as_string())\n",
        "        print ('email sent')\n",
        "    except:\n",
        "        print('error sending mail')\n",
        "\n",
        "    session.quit()\n",
        "\n",
        "def main(h =now.hour ,m =now.minute ):\n",
        "\n",
        "\n",
        "    while True:\n",
        "        now = datetime.datetime.now()\n",
        "        print(now.hour, now.minute)\n",
        "        if now.hour == h and now.minute == m:\n",
        "            hsic1_data_backup()\n",
        "            \n",
        "            \n",
        "            \n",
        "        # check every 60 seconds\n",
        "        time.sleep(60)\n",
        "    \n",
        " \n",
        "main()    "
      ],
      "execution_count": 9,
      "outputs": [
        {
          "output_type": "stream",
          "text": [
            "Requirement already satisfied: selenium in /usr/local/lib/python3.6/dist-packages (3.141.0)\n",
            "Requirement already satisfied: urllib3 in /usr/local/lib/python3.6/dist-packages (from selenium) (1.24.3)\n",
            "Hit:1 http://ppa.launchpad.net/graphics-drivers/ppa/ubuntu bionic InRelease\n",
            "Get:2 http://security.ubuntu.com/ubuntu bionic-security InRelease [88.7 kB]\n",
            "Hit:3 http://archive.ubuntu.com/ubuntu bionic InRelease\n",
            "Hit:4 http://ppa.launchpad.net/marutter/c2d4u3.5/ubuntu bionic InRelease\n",
            "Hit:5 http://archive.ubuntu.com/ubuntu bionic-updates InRelease\n",
            "Get:6 http://archive.ubuntu.com/ubuntu bionic-backports InRelease [74.6 kB]\n",
            "Hit:7 https://cloud.r-project.org/bin/linux/ubuntu bionic-cran35/ InRelease\n",
            "Ign:8 https://developer.download.nvidia.com/compute/cuda/repos/ubuntu1804/x86_64  InRelease\n",
            "Ign:9 https://developer.download.nvidia.com/compute/machine-learning/repos/ubuntu1804/x86_64  InRelease\n",
            "Hit:10 https://developer.download.nvidia.com/compute/cuda/repos/ubuntu1804/x86_64  Release\n",
            "Hit:11 https://developer.download.nvidia.com/compute/machine-learning/repos/ubuntu1804/x86_64  Release\n",
            "Fetched 163 kB in 2s (101 kB/s)\n",
            "Reading package lists... Done\n",
            "Reading package lists... Done\n",
            "Building dependency tree       \n",
            "Reading state information... Done\n",
            "chromium-chromedriver is already the newest version (79.0.3945.79-0ubuntu0.18.04.1).\n",
            "The following package was automatically installed and is no longer required:\n",
            "  libnvidia-common-430\n",
            "Use 'apt autoremove' to remove it.\n",
            "0 upgraded, 0 newly installed, 0 to remove and 30 not upgraded.\n",
            "cp: '/usr/lib/chromium-browser/chromedriver' and '/usr/bin/chromedriver' are the same file\n"
          ],
          "name": "stdout"
        },
        {
          "output_type": "stream",
          "text": [
            "/usr/local/lib/python3.6/dist-packages/ipykernel_launcher.py:13: DeprecationWarning: use options instead of chrome_options\n",
            "  del sys.path[0]\n"
          ],
          "name": "stderr"
        },
        {
          "output_type": "stream",
          "text": [
            "19 45\n"
          ],
          "name": "stdout"
        },
        {
          "output_type": "stream",
          "text": [
            "/usr/local/lib/python3.6/dist-packages/ipykernel_launcher.py:40: DeprecationWarning: use options instead of chrome_options\n"
          ],
          "name": "stderr"
        },
        {
          "output_type": "stream",
          "text": [
            "File exist\n",
            "File updated\n",
            "恒生指數期貨(01/2020) 開盤報 29200點 上升238 點\n"
          ],
          "name": "stdout"
        },
        {
          "output_type": "stream",
          "text": [
            "/usr/local/lib/python3.6/dist-packages/ipykernel_launcher.py:66: FutureWarning: Sorting because non-concatenation axis is not aligned. A future version\n",
            "of pandas will change to not sort by default.\n",
            "\n",
            "To accept the future behavior, pass 'sort=False'.\n",
            "\n",
            "To retain the current behavior and silence the warning, pass 'sort=True'.\n",
            "\n"
          ],
          "name": "stderr"
        },
        {
          "output_type": "stream",
          "text": [
            "email sent\n"
          ],
          "name": "stdout"
        },
        {
          "output_type": "error",
          "ename": "KeyboardInterrupt",
          "evalue": "ignored",
          "traceback": [
            "\u001b[0;31m---------------------------------------------------------------------------\u001b[0m",
            "\u001b[0;31mKeyboardInterrupt\u001b[0m                         Traceback (most recent call last)",
            "\u001b[0;32m<ipython-input-9-7e3a0b3511aa>\u001b[0m in \u001b[0;36m<module>\u001b[0;34m()\u001b[0m\n\u001b[1;32m    136\u001b[0m \u001b[0;34m\u001b[0m\u001b[0m\n\u001b[1;32m    137\u001b[0m \u001b[0;34m\u001b[0m\u001b[0m\n\u001b[0;32m--> 138\u001b[0;31m \u001b[0mmain\u001b[0m\u001b[0;34m(\u001b[0m\u001b[0;34m)\u001b[0m\u001b[0;34m\u001b[0m\u001b[0;34m\u001b[0m\u001b[0m\n\u001b[0m",
            "\u001b[0;32m<ipython-input-9-7e3a0b3511aa>\u001b[0m in \u001b[0;36mmain\u001b[0;34m(h, m)\u001b[0m\n\u001b[1;32m    133\u001b[0m \u001b[0;34m\u001b[0m\u001b[0m\n\u001b[1;32m    134\u001b[0m         \u001b[0;31m# 每隔60秒检测一次\u001b[0m\u001b[0;34m\u001b[0m\u001b[0;34m\u001b[0m\u001b[0;34m\u001b[0m\u001b[0m\n\u001b[0;32m--> 135\u001b[0;31m         \u001b[0mtime\u001b[0m\u001b[0;34m.\u001b[0m\u001b[0msleep\u001b[0m\u001b[0;34m(\u001b[0m\u001b[0;36m10\u001b[0m\u001b[0;34m)\u001b[0m\u001b[0;34m\u001b[0m\u001b[0;34m\u001b[0m\u001b[0m\n\u001b[0m\u001b[1;32m    136\u001b[0m \u001b[0;34m\u001b[0m\u001b[0m\n\u001b[1;32m    137\u001b[0m \u001b[0;34m\u001b[0m\u001b[0m\n",
            "\u001b[0;31mKeyboardInterrupt\u001b[0m: "
          ]
        }
      ]
    }
  ]
}